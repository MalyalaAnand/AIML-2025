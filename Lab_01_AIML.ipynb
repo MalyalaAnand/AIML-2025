{
  "nbformat": 4,
  "nbformat_minor": 0,
  "metadata": {
    "colab": {
      "provenance": []
    },
    "kernelspec": {
      "name": "python3",
      "display_name": "Python 3"
    },
    "language_info": {
      "name": "python"
    }
  },
  "cells": [
    {
      "cell_type": "markdown",
      "source": [
        "# Lab 01- Implement basic data structures of Numpy, Pandas, Matplotlib and Access Data from sources\n",
        "\n",
        "**M.Anand**\n",
        "\n",
        "**Part 01: Lab Task is implement the following data structures using Numpy and Pandas.**\n",
        "\n",
        "1.   Lists\n",
        "2.   Arrays\n",
        "1.   Identify their type using type()\n",
        "2.   Perform mathematical operations on these datasets created - multiplication, division, poweroff\n",
        "1.   Combine text with Numpy fuction to generate a textual output - ”Addition of Two: array1 +array 2\n",
        "2.   Implement np.sin(), log(), log2(), np.exp())\n",
        "\n",
        "\n",
        "\n",
        "\n",
        "\n",
        "\n",
        "\n",
        "\n",
        "\n",
        "\n"
      ],
      "metadata": {
        "id": "MTvyv5V8Wu-D"
      }
    },
    {
      "cell_type": "code",
      "source": [
        "import numpy as np\n",
        "import matplotlib.pyplot as plt\n",
        "import pandas as pd\n",
        "\n",
        "list1 = [1,2,3,4,]\n",
        "array1 = np.array(list1)\n",
        "array1\n",
        "array2 = np.array([1,2,3,4])\n",
        "list1,array1,array2"
      ],
      "metadata": {
        "colab": {
          "base_uri": "https://localhost:8080/"
        },
        "id": "XGDGs0LgXsSE",
        "outputId": "85d0992a-9734-4690-dea1-9b6434c57b9b"
      },
      "execution_count": 1,
      "outputs": [
        {
          "output_type": "execute_result",
          "data": {
            "text/plain": [
              "([1, 2, 3, 4], array([1, 2, 3, 4]), array([1, 2, 3, 4]))"
            ]
          },
          "metadata": {},
          "execution_count": 1
        }
      ]
    },
    {
      "cell_type": "code",
      "source": [
        "type(list1),type(array1),type(array2)"
      ],
      "metadata": {
        "colab": {
          "base_uri": "https://localhost:8080/"
        },
        "id": "8eAB_r_aX1Bd",
        "outputId": "1efa26cf-f368-4675-c047-e07bc5a9b1af"
      },
      "execution_count": 2,
      "outputs": [
        {
          "output_type": "execute_result",
          "data": {
            "text/plain": [
              "(list, numpy.ndarray, numpy.ndarray)"
            ]
          },
          "metadata": {},
          "execution_count": 2
        }
      ]
    },
    {
      "cell_type": "code",
      "source": [
        "print(\"Adding 2 arrays: array1 + array2\")\n",
        "print(\"sub 2 arrays: array1 - array2\")\n",
        "print(\"Multiply 2 arrays: array1 * array2\")\n",
        "print(\"div 2 arrays: array1 / array2\")\n",
        "print(\"Exponentiating 2 arrays: array1 ** array2\")\n",
        "print(\"Multiply  array to list1: array2 * list1\")"
      ],
      "metadata": {
        "colab": {
          "base_uri": "https://localhost:8080/"
        },
        "id": "7BUsk3ktX6wl",
        "outputId": "87b73ab4-7ca3-4fda-e56e-df4f9d4f426e"
      },
      "execution_count": 3,
      "outputs": [
        {
          "output_type": "stream",
          "name": "stdout",
          "text": [
            "Adding 2 arrays: array1 + array2\n",
            "sub 2 arrays: array1 - array2\n",
            "Multiply 2 arrays: array1 * array2\n",
            "div 2 arrays: array1 / array2\n",
            "Exponentiating 2 arrays: array1 ** array2\n",
            "Multiply  array to list1: array2 * list1\n"
          ]
        }
      ]
    },
    {
      "cell_type": "code",
      "source": [
        "Add:array1+array2\n",
        "Sub:array1-array2\n",
        "Mul:array1*array2\n",
        "Div:array1/array2\n",
        "print(f\"Adding{array1} with {array2}\")\n",
        "print(f\"Result:{np.add(array1,array2)}\")"
      ],
      "metadata": {
        "colab": {
          "base_uri": "https://localhost:8080/"
        },
        "id": "lBb9ttnDYA4W",
        "outputId": "504b9156-b65e-45f3-a456-dde5bcfe4ffc"
      },
      "execution_count": 4,
      "outputs": [
        {
          "output_type": "stream",
          "name": "stdout",
          "text": [
            "Adding[1 2 3 4] with [1 2 3 4]\n",
            "Result:[2 4 6 8]\n"
          ]
        }
      ]
    },
    {
      "cell_type": "code",
      "source": [
        "print(f\"Sine value of array1:{np.sin(array1)}\")\n",
        "print(f\"Log value of array1:{np.log(array1)}\")\n",
        "print(f\"Log base 2 value of array1:{np.log2(array1)}\")\n",
        "print(f\"Log base 10 value of array1:{np.log10(array1)}\")\n",
        "print(f\"Exponential value of array1:{np.exp(array1)}\")"
      ],
      "metadata": {
        "colab": {
          "base_uri": "https://localhost:8080/"
        },
        "id": "NVptwTZ4YZ-k",
        "outputId": "371c6ab4-c89a-4f73-e076-b1c3bd1e0720"
      },
      "execution_count": 5,
      "outputs": [
        {
          "output_type": "stream",
          "name": "stdout",
          "text": [
            "Sine value of array1:[ 0.84147098  0.90929743  0.14112001 -0.7568025 ]\n",
            "Log value of array1:[0.         0.69314718 1.09861229 1.38629436]\n",
            "Log base 2 value of array1:[0.        1.        1.5849625 2.       ]\n",
            "Log base 10 value of array1:[0.         0.30103    0.47712125 0.60205999]\n",
            "Exponential value of array1:[ 2.71828183  7.3890561  20.08553692 54.59815003]\n"
          ]
        }
      ]
    },
    {
      "cell_type": "markdown",
      "source": [
        "# **Part-02: Lab Task is to visualize the datasets or data using Matplotlib built-in function Graphs**\n",
        "\n",
        "# Generate Scatterplot\n",
        "\n",
        "**Let's suppose we collected age (in years), height (in cm), and weight (in kilograms) information from few patients visitng a clinic.**\n",
        "\n"
      ],
      "metadata": {
        "id": "1R1c7MutYeTr"
      }
    },
    {
      "cell_type": "code",
      "source": [
        "people=[\"Ajay\",\"varun\",\"ramesh\",\"Abbi\",\"Advith\"]\n",
        "age=[40,42,47,58,59]\n",
        "weight =[40,61,72,83,94]\n",
        "height=[170,171,172,173,174]"
      ],
      "metadata": {
        "id": "lmcjffVibTlk"
      },
      "execution_count": 12,
      "outputs": []
    },
    {
      "cell_type": "code",
      "source": [
        "plt.scatter(weight,height)\n",
        "plt.show(\"weight\")\n",
        "plt.show(\"height\")"
      ],
      "metadata": {
        "colab": {
          "base_uri": "https://localhost:8080/",
          "height": 430
        },
        "id": "rn9g_oNJcS1S",
        "outputId": "1568862c-0a71-4b93-948b-446aa0b62aef"
      },
      "execution_count": 13,
      "outputs": [
        {
          "output_type": "display_data",
          "data": {
            "text/plain": [
              "<Figure size 640x480 with 1 Axes>"
            ],
            "image/png": "[encoded data removed]"
          },
          "metadata": {}
        }
      ]
    },
    {
      "cell_type": "code",
      "source": [
        "plt.figure(figsize=(5,4))\n",
        "plt.bar(people,weight)\n",
        "plt.xlabel(\"people\")\n",
        "plt.ylabel(\"weight\")\n",
        "plt.title(\"People vs Height\")"
      ],
      "metadata": {
        "colab": {
          "base_uri": "https://localhost:8080/",
          "height": 427
        },
        "id": "azcsfYoacWM_",
        "outputId": "475df015-2c3d-46ef-c079-2f2d3f8f5bac"
      },
      "execution_count": 15,
      "outputs": [
        {
          "output_type": "execute_result",
          "data": {
            "text/plain": [
              "Text(0.5, 1.0, 'People vs Height')"
            ]
          },
          "metadata": {},
          "execution_count": 15
        },
        {
          "output_type": "display_data",
          "data": {
            "text/plain": [
              "<Figure size 500x400 with 1 Axes>"
            ],
            "image/png": "[encoded data removed]"
          },
          "metadata": {}
        }
      ]
    },
    {
      "cell_type": "code",
      "source": [
        "plt.figure(figsize=(5,4))\n",
        "plt.hist(weight,alpha=0.75,bins=3)\n",
        "plt.xlabel(\"weigth\")\n",
        "plt.ylabel(\"height\")\n",
        "plt.title(\"weigth vs Height\")\n",
        "plt.show()"
      ],
      "metadata": {
        "colab": {
          "base_uri": "https://localhost:8080/",
          "height": 410
        },
        "id": "SxTcxzXQdDOM",
        "outputId": "03611ce7-3a07-4849-cffc-b509784c978b"
      },
      "execution_count": 17,
      "outputs": [
        {
          "output_type": "display_data",
          "data": {
            "text/plain": [
              "<Figure size 500x400 with 1 Axes>"
            ],
            "image/png": "[encoded data removed]"
          },
          "metadata": {}
        }
      ]
    },
    {
      "cell_type": "markdown",
      "source": [
        "# Part-03: Access Data from various sources and formats\n"
      ],
      "metadata": {
        "id": "ugCQMbGndNVs"
      }
    },
    {
      "cell_type": "code",
      "source": [
        "import numpy as np\n",
        "import pandas as pd\n",
        "df1 = pd.read_table(\"Lab01-Text.txt\")\n",
        "df1\n",
        "data2 = pd.read_csv(\"Lab01-Text.csv\")\n",
        "data2\n",
        "data3 = pd.read_excel(\"Height_weight.xlsx\")\n",
        "data3"
      ],
      "metadata": {
        "id": "JZygDQsFeIot"
      },
      "execution_count": null,
      "outputs": []
    }
  ]
}